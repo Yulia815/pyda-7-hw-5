{
 "cells": [
  {
   "cell_type": "markdown",
   "metadata": {},
   "source": [
    "Домашнее задание\n",
    "Переведите содержимое файла purchase_log.txt в словарь purchases вида:\n",
    "{'1840e0b9d4': 'Продукты', ...}\n",
    "Для каждого user_id в файле visit_log.csv добавьте третий столбец с категорией покупки (если покупка была).\n",
    "Запишите в файл funnel.csv визиты из файла visit_log.csv, в которых были покупки с указанием категории.\n",
    "Учтите условия на данные:\n",
    "содержимое purchase_log.txt помещается в оперативную память компьютера\n",
    "содержимое visit_log.csv - нет; используйте только построчную обработку этого файла"
   ]
  },
  {
   "cell_type": "code",
   "execution_count": 1,
   "metadata": {},
   "outputs": [],
   "source": [
    "import json"
   ]
  },
  {
   "cell_type": "code",
   "execution_count": 2,
   "metadata": {},
   "outputs": [],
   "source": [
    "with open('purchase_log.txt','r', encoding = 'utf-8') as f:\n",
    "    #next(f)\n",
    "    purchases={}\n",
    "    for line in f:\n",
    "        line = line.strip()\n",
    "        new_line = json.loads(line)\n",
    "        #print(new_line)\n",
    "        if (new_line['user_id']) not in purchases.keys():\n",
    "            purchases[new_line['user_id']]= new_line['category']\n",
    "        else:\n",
    "            purchases[new_line['user_id']] += ',' + new_line['category'] "
   ]
  },
  {
   "cell_type": "code",
   "execution_count": 3,
   "metadata": {},
   "outputs": [],
   "source": [
    "with  open('visit_log.csv','r', encoding = 'utf-8') as new:\n",
    "    with open('funnel.csv ', 'w', encoding = 'utf-8') as n:\n",
    "        n.write('user_id;''source,' + 'category'+ '\\n')\n",
    "        for el in new:\n",
    "            el = new.readline().strip().split(',')\n",
    "            first = el[0]\n",
    "            key = purchases.get(first)\n",
    "            if key:\n",
    "                n.write(';'.join(el)+  ',' + key +'\\n')"
   ]
  },
  {
   "cell_type": "code",
   "execution_count": null,
   "metadata": {},
   "outputs": [],
   "source": []
  }
 ],
 "metadata": {
  "kernelspec": {
   "display_name": "Python 3",
   "language": "python",
   "name": "python3"
  },
  "language_info": {
   "codemirror_mode": {
    "name": "ipython",
    "version": 3
   },
   "file_extension": ".py",
   "mimetype": "text/x-python",
   "name": "python",
   "nbconvert_exporter": "python",
   "pygments_lexer": "ipython3",
   "version": "3.7.4"
  }
 },
 "nbformat": 4,
 "nbformat_minor": 2
}
